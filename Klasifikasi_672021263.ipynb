{
  "nbformat": 4,
  "nbformat_minor": 0,
  "metadata": {
    "colab": {
      "provenance": []
    },
    "kernelspec": {
      "name": "python3",
      "display_name": "Python 3"
    },
    "language_info": {
      "name": "python"
    }
  },
  "cells": [
    {
      "cell_type": "markdown",
      "source": [
        "# Eksplor Data"
      ],
      "metadata": {
        "id": "qEsWcWSV-vO9"
      }
    },
    {
      "cell_type": "code",
      "source": [
        "from sklearn import datasets\n",
        "iris = datasets.load_iris()\n",
        "X = iris.data\n",
        "y = iris.target"
      ],
      "metadata": {
        "id": "nSlJlPqnxM2b"
      },
      "execution_count": 1,
      "outputs": []
    },
    {
      "cell_type": "code",
      "source": [
        "print(\"Banyaknya data :\", len(X))"
      ],
      "metadata": {
        "colab": {
          "base_uri": "https://localhost:8080/"
        },
        "id": "D7AjFiMKxffG",
        "outputId": "97b59c13-3c2f-4a07-fad6-0ab81b05c98b"
      },
      "execution_count": 2,
      "outputs": [
        {
          "output_type": "stream",
          "name": "stdout",
          "text": [
            "Banyaknya data : 150\n"
          ]
        }
      ]
    },
    {
      "cell_type": "code",
      "source": [
        "print(X[:10])"
      ],
      "metadata": {
        "colab": {
          "base_uri": "https://localhost:8080/"
        },
        "id": "Q8vRZQngyCqB",
        "outputId": "0ee980a2-cef1-4b81-df2c-34b97365725b"
      },
      "execution_count": 3,
      "outputs": [
        {
          "output_type": "stream",
          "name": "stdout",
          "text": [
            "[[5.1 3.5 1.4 0.2]\n",
            " [4.9 3.  1.4 0.2]\n",
            " [4.7 3.2 1.3 0.2]\n",
            " [4.6 3.1 1.5 0.2]\n",
            " [5.  3.6 1.4 0.2]\n",
            " [5.4 3.9 1.7 0.4]\n",
            " [4.6 3.4 1.4 0.3]\n",
            " [5.  3.4 1.5 0.2]\n",
            " [4.4 2.9 1.4 0.2]\n",
            " [4.9 3.1 1.5 0.1]]\n"
          ]
        }
      ]
    },
    {
      "cell_type": "code",
      "source": [
        "print(y[:10])"
      ],
      "metadata": {
        "colab": {
          "base_uri": "https://localhost:8080/"
        },
        "id": "O9lOMo11yQni",
        "outputId": "bf94479f-fd76-4821-a517-a2f0524184db"
      },
      "execution_count": 4,
      "outputs": [
        {
          "output_type": "stream",
          "name": "stdout",
          "text": [
            "[0 0 0 0 0 0 0 0 0 0]\n"
          ]
        }
      ]
    },
    {
      "cell_type": "markdown",
      "source": [
        "# SPLIT DATA"
      ],
      "metadata": {
        "id": "RHAumgIwzGTs"
      }
    },
    {
      "cell_type": "code",
      "source": [
        "from sklearn.model_selection import train_test_split\n",
        "\n",
        "X_train, X_test, y_train, y_test = train_test_split(X, y, train_size = 0.7)"
      ],
      "metadata": {
        "id": "hoOzk4RHy5tu"
      },
      "execution_count": 5,
      "outputs": []
    },
    {
      "cell_type": "code",
      "source": [
        "print(\"Banyaknya data latih setelah Train-Test Split :\", len(X_train))\n",
        "print(\"Banyaknya data uji setelah Train-Test Split :\", len(X_test))"
      ],
      "metadata": {
        "colab": {
          "base_uri": "https://localhost:8080/"
        },
        "id": "-uhrxHt4zgAp",
        "outputId": "9fe0a635-5c10-4c51-8e0b-b2d715354f37"
      },
      "execution_count": 6,
      "outputs": [
        {
          "output_type": "stream",
          "name": "stdout",
          "text": [
            "Banyaknya data latih setelah Train-Test Split : 105\n",
            "Banyaknya data uji setelah Train-Test Split : 45\n"
          ]
        }
      ]
    },
    {
      "cell_type": "markdown",
      "source": [
        "# K-FOLD VALIDATION"
      ],
      "metadata": {
        "id": "hXTGEiRT1lc8"
      }
    },
    {
      "cell_type": "code",
      "source": [
        "from sklearn.model_selection import cross_val_score\n",
        "from sklearn.svm import SVC\n",
        "\n",
        "model = SVC(kernel = 'linear', C = 1)\n",
        "scores = cross_val_score(model, X, y, cv = 5)\n",
        "print(\"Akurasi Model SVM untuk tiap fold: \", scores)\n",
        "print(\"Akurasi Model SVM dengan 5-fold Cross Validation: \", scores.mean())"
      ],
      "metadata": {
        "colab": {
          "base_uri": "https://localhost:8080/"
        },
        "id": "sVAhz2Dnz1YW",
        "outputId": "a26e1f99-fa40-4a18-d193-aeac703cb10a"
      },
      "execution_count": 7,
      "outputs": [
        {
          "output_type": "stream",
          "name": "stdout",
          "text": [
            "Akurasi Model SVM untuk tiap fold:  [0.96666667 1.         0.96666667 0.96666667 1.        ]\n",
            "Akurasi Model SVM dengan 5-fold Cross Validation:  0.9800000000000001\n"
          ]
        }
      ]
    },
    {
      "cell_type": "markdown",
      "source": [
        "# k – Nearest Neighbor (k-NN) Classifier"
      ],
      "metadata": {
        "id": "LKySQkTQ2eLY"
      }
    },
    {
      "cell_type": "code",
      "source": [
        "from sklearn.neighbors import KNeighborsClassifier\n",
        "from sklearn import metrics\n",
        "\n",
        "knn = KNeighborsClassifier()\n",
        "knn.fit(X_train, y_train)\n",
        "y_pred = knn.predict(X_test)\n",
        "score_knn = metrics.accuracy_score(y_test, y_pred)\n",
        "print(\"Akurasi menggunakan Nearest Neighbors: \", score_knn)"
      ],
      "metadata": {
        "colab": {
          "base_uri": "https://localhost:8080/"
        },
        "id": "Ft6q_xcm1C5F",
        "outputId": "4959bb81-32fe-4771-f6e1-d4f1ed47d950"
      },
      "execution_count": 8,
      "outputs": [
        {
          "output_type": "stream",
          "name": "stdout",
          "text": [
            "Akurasi menggunakan Nearest Neighbors:  0.9555555555555556\n"
          ]
        }
      ]
    },
    {
      "cell_type": "markdown",
      "source": [
        "# Decision Tree Classifier"
      ],
      "metadata": {
        "id": "r-OLK89T5irz"
      }
    },
    {
      "cell_type": "code",
      "source": [
        "from sklearn.tree import DecisionTreeClassifier\n",
        "from sklearn import metrics\n",
        "\n",
        "dt = DecisionTreeClassifier(\n",
        "  max_depth = None,\n",
        "  min_samples_split = 2\n",
        ")\n",
        "\n",
        "dt.fit(X_train, y_train)\n",
        "y_pred = dt.predict(X_test)\n",
        "score_dt = metrics.accuracy_score(y_test, y_pred)\n",
        "print(\"Akurasinya :\", score_dt)"
      ],
      "metadata": {
        "colab": {
          "base_uri": "https://localhost:8080/"
        },
        "id": "DFDLiz_n5Oj4",
        "outputId": "503236fc-588b-4a3f-c5b5-5685c6bc8860"
      },
      "execution_count": 9,
      "outputs": [
        {
          "output_type": "stream",
          "name": "stdout",
          "text": [
            "Akurasinya : 0.9555555555555556\n"
          ]
        }
      ]
    },
    {
      "cell_type": "markdown",
      "source": [
        "# Naive Bayes"
      ],
      "metadata": {
        "id": "L4ADkhHz7atO"
      }
    },
    {
      "cell_type": "code",
      "source": [
        "from sklearn import naive_bayes\n",
        "from sklearn import metrics\n",
        "\n",
        "nb = naive_bayes.BernoulliNB()\n",
        "\n",
        "nb.fit(X_train, y_train)\n",
        "y_pred = nb.predict(X_test)\n",
        "score_nb = metrics.accuracy_score(y_test, y_pred)\n",
        "print(\"Akurasinya: \", score_nb)"
      ],
      "metadata": {
        "colab": {
          "base_uri": "https://localhost:8080/"
        },
        "id": "OuujncEu7fB4",
        "outputId": "eed96ed1-8d16-4835-d510-e11d6cf6d984"
      },
      "execution_count": 10,
      "outputs": [
        {
          "output_type": "stream",
          "name": "stdout",
          "text": [
            "Akurasinya:  0.28888888888888886\n"
          ]
        }
      ]
    },
    {
      "cell_type": "markdown",
      "source": [
        "# SVM"
      ],
      "metadata": {
        "id": "A5dksfNK8aYm"
      }
    },
    {
      "cell_type": "code",
      "source": [
        "from sklearn.svm import SVC\n",
        "from sklearn import metrics\n",
        "\n",
        "# Create SVM models with different kernels\n",
        "svm_rbf = SVC(\n",
        "    kernel = 'rbf',\n",
        "    C = 1,\n",
        "    gamma = 0.01\n",
        ")\n",
        "\n",
        "svm_linear = SVC(\n",
        "    kernel = 'linear',\n",
        "    C = 1\n",
        ")\n",
        "\n",
        "svm_poly = SVC(\n",
        "    kernel = 'poly',\n",
        "    C = 1,\n",
        "    degree = 3\n",
        ")\n",
        "\n",
        "# Train and evaluate each model\n",
        "svm_rbf.fit(X_train, y_train)\n",
        "y_pred_rbf = svm_rbf.predict(X_test)\n",
        "score_rbf = metrics.accuracy_score(y_test, y_pred_rbf)\n",
        "print(\"RBF SVM Akurasinya: \", score_rbf)\n",
        "\n",
        "svm_linear.fit(X_train, y_train)\n",
        "y_pred_linear = svm_linear.predict(X_test)\n",
        "score_linear = metrics.accuracy_score(y_test, y_pred_linear)\n",
        "print(\"Linear SVM Akurasinya: \", score_linear)\n",
        "\n",
        "svm_poly.fit(X_train, y_train)\n",
        "y_pred_poly = svm_poly.predict(X_test)\n",
        "score_poly = metrics.accuracy_score(y_test, y_pred_poly)\n",
        "print(\"Poly SVM Akurasinya: \", score_poly)"
      ],
      "metadata": {
        "colab": {
          "base_uri": "https://localhost:8080/"
        },
        "id": "JGHWMtSM9uP1",
        "outputId": "1de526ae-0b82-48a3-e162-8b682f9dacf4"
      },
      "execution_count": 11,
      "outputs": [
        {
          "output_type": "stream",
          "name": "stdout",
          "text": [
            "RBF SVM Akurasinya:  0.9111111111111111\n",
            "Linear SVM Akurasinya:  0.9777777777777777\n",
            "Poly SVM Akurasinya:  0.9555555555555556\n"
          ]
        }
      ]
    },
    {
      "cell_type": "markdown",
      "source": [
        "# AdaBoost (Adaptive Boosting)"
      ],
      "metadata": {
        "id": "LBfUpXW4--KB"
      }
    },
    {
      "cell_type": "code",
      "source": [
        "from sklearn.ensemble import AdaBoostClassifier\n",
        "from sklearn import metrics\n",
        "\n",
        "ab = AdaBoostClassifier(\n",
        "    n_estimators = 50,\n",
        "    learning_rate = 1,\n",
        "    random_state=42\n",
        ")\n",
        "\n",
        "ab.fit(X_train, y_train)\n",
        "y_pred = ab.predict(X_test)\n",
        "score_AB = metrics.accuracy_score(y_test, y_pred)\n",
        "print(\"Akurasinya: \", score_AB)"
      ],
      "metadata": {
        "colab": {
          "base_uri": "https://localhost:8080/"
        },
        "id": "1N3ShRLI_RMd",
        "outputId": "dba1e0b5-7dd5-433d-d77e-1708379be002"
      },
      "execution_count": 12,
      "outputs": [
        {
          "output_type": "stream",
          "name": "stdout",
          "text": [
            "Akurasinya:  0.9555555555555556\n"
          ]
        }
      ]
    },
    {
      "cell_type": "code",
      "source": [],
      "metadata": {
        "id": "tymiqnXS7CUt"
      },
      "execution_count": 12,
      "outputs": []
    }
  ]
}