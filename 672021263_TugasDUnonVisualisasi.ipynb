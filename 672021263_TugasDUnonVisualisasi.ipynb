{
  "nbformat": 4,
  "nbformat_minor": 0,
  "metadata": {
    "colab": {
      "provenance": []
    },
    "kernelspec": {
      "name": "python3",
      "display_name": "Python 3"
    },
    "language_info": {
      "name": "python"
    }
  },
  "cells": [
    {
      "cell_type": "code",
      "execution_count": 25,
      "metadata": {
        "id": "2bzm4TVogTaG"
      },
      "outputs": [],
      "source": [
        "import pandas as pd\n",
        "import numpy as np"
      ]
    },
    {
      "cell_type": "code",
      "source": [
        "!mkdir ~/.github"
      ],
      "metadata": {
        "id": "KaUN--x-gvyI"
      },
      "execution_count": null,
      "outputs": []
    },
    {
      "cell_type": "code",
      "source": [
        "!cp CCS-master.zip ~/.github"
      ],
      "metadata": {
        "id": "XhopSyhxh57W"
      },
      "execution_count": 3,
      "outputs": []
    },
    {
      "cell_type": "code",
      "source": [
        "!unzip CCS-master.zip"
      ],
      "metadata": {
        "colab": {
          "base_uri": "https://localhost:8080/"
        },
        "id": "Z_tRBhZ_i-h5",
        "outputId": "3d6d29b6-f7c0-43a6-dc01-000a4bf28821"
      },
      "execution_count": 4,
      "outputs": [
        {
          "output_type": "stream",
          "name": "stdout",
          "text": [
            "Archive:  CCS-master.zip\n",
            "7fed3ec99524ebd276c16678586bcaa36883b98a\n",
            "   creating: CCS-master/\n",
            "  inflating: CCS-master/README.md    \n",
            "  inflating: CCS-master/Tasks.md     \n",
            "   creating: CCS-master/sample data/\n",
            "  inflating: CCS-master/sample data/customers.csv  \n",
            "  inflating: CCS-master/sample data/gasstations.csv  \n",
            "  inflating: CCS-master/sample data/products.csv  \n",
            "  inflating: CCS-master/sample data/sample.csv  \n"
          ]
        }
      ]
    },
    {
      "cell_type": "code",
      "source": [
        "path = 'sample.csv'\n",
        "df = pd.read_csv(path)"
      ],
      "metadata": {
        "id": "GBm0FCDdjILt"
      },
      "execution_count": 27,
      "outputs": []
    },
    {
      "cell_type": "code",
      "source": [
        "df.head()"
      ],
      "metadata": {
        "colab": {
          "base_uri": "https://localhost:8080/",
          "height": 206
        },
        "id": "X_a8cAQEjYRs",
        "outputId": "7e9f6468-ad48-490e-c9b1-eab70b9b2c61"
      },
      "execution_count": 28,
      "outputs": [
        {
          "output_type": "execute_result",
          "data": {
            "text/plain": [
              "         Date      Time  CustomerID  CardID  GasStationID  ProductID  Amount  \\\n",
              "0  2012-01-01  00:18:00       41113  645177           363          2   93.75   \n",
              "1  2012-01-01  02:05:00       30766  496967          1083          2  132.10   \n",
              "2  2012-01-01  00:27:00       31576  618868           109          5   21.35   \n",
              "3  2012-01-01  06:56:00        3800  598481          5298        322   52.50   \n",
              "4  2012-01-01  05:46:00        3493   34405          5163        317   70.00   \n",
              "\n",
              "       Price  \n",
              "0  2038.5750  \n",
              "1  3002.6920  \n",
              "2   462.9240  \n",
              "3    47.0239  \n",
              "4    61.8310  "
            ],
            "text/html": [
              "\n",
              "  <div id=\"df-62dd4866-a055-49a5-93a6-5698fe83df68\" class=\"colab-df-container\">\n",
              "    <div>\n",
              "<style scoped>\n",
              "    .dataframe tbody tr th:only-of-type {\n",
              "        vertical-align: middle;\n",
              "    }\n",
              "\n",
              "    .dataframe tbody tr th {\n",
              "        vertical-align: top;\n",
              "    }\n",
              "\n",
              "    .dataframe thead th {\n",
              "        text-align: right;\n",
              "    }\n",
              "</style>\n",
              "<table border=\"1\" class=\"dataframe\">\n",
              "  <thead>\n",
              "    <tr style=\"text-align: right;\">\n",
              "      <th></th>\n",
              "      <th>Date</th>\n",
              "      <th>Time</th>\n",
              "      <th>CustomerID</th>\n",
              "      <th>CardID</th>\n",
              "      <th>GasStationID</th>\n",
              "      <th>ProductID</th>\n",
              "      <th>Amount</th>\n",
              "      <th>Price</th>\n",
              "    </tr>\n",
              "  </thead>\n",
              "  <tbody>\n",
              "    <tr>\n",
              "      <th>0</th>\n",
              "      <td>2012-01-01</td>\n",
              "      <td>00:18:00</td>\n",
              "      <td>41113</td>\n",
              "      <td>645177</td>\n",
              "      <td>363</td>\n",
              "      <td>2</td>\n",
              "      <td>93.75</td>\n",
              "      <td>2038.5750</td>\n",
              "    </tr>\n",
              "    <tr>\n",
              "      <th>1</th>\n",
              "      <td>2012-01-01</td>\n",
              "      <td>02:05:00</td>\n",
              "      <td>30766</td>\n",
              "      <td>496967</td>\n",
              "      <td>1083</td>\n",
              "      <td>2</td>\n",
              "      <td>132.10</td>\n",
              "      <td>3002.6920</td>\n",
              "    </tr>\n",
              "    <tr>\n",
              "      <th>2</th>\n",
              "      <td>2012-01-01</td>\n",
              "      <td>00:27:00</td>\n",
              "      <td>31576</td>\n",
              "      <td>618868</td>\n",
              "      <td>109</td>\n",
              "      <td>5</td>\n",
              "      <td>21.35</td>\n",
              "      <td>462.9240</td>\n",
              "    </tr>\n",
              "    <tr>\n",
              "      <th>3</th>\n",
              "      <td>2012-01-01</td>\n",
              "      <td>06:56:00</td>\n",
              "      <td>3800</td>\n",
              "      <td>598481</td>\n",
              "      <td>5298</td>\n",
              "      <td>322</td>\n",
              "      <td>52.50</td>\n",
              "      <td>47.0239</td>\n",
              "    </tr>\n",
              "    <tr>\n",
              "      <th>4</th>\n",
              "      <td>2012-01-01</td>\n",
              "      <td>05:46:00</td>\n",
              "      <td>3493</td>\n",
              "      <td>34405</td>\n",
              "      <td>5163</td>\n",
              "      <td>317</td>\n",
              "      <td>70.00</td>\n",
              "      <td>61.8310</td>\n",
              "    </tr>\n",
              "  </tbody>\n",
              "</table>\n",
              "</div>\n",
              "    <div class=\"colab-df-buttons\">\n",
              "\n",
              "  <div class=\"colab-df-container\">\n",
              "    <button class=\"colab-df-convert\" onclick=\"convertToInteractive('df-62dd4866-a055-49a5-93a6-5698fe83df68')\"\n",
              "            title=\"Convert this dataframe to an interactive table.\"\n",
              "            style=\"display:none;\">\n",
              "\n",
              "  <svg xmlns=\"http://www.w3.org/2000/svg\" height=\"24px\" viewBox=\"0 -960 960 960\">\n",
              "    <path d=\"M120-120v-720h720v720H120Zm60-500h600v-160H180v160Zm220 220h160v-160H400v160Zm0 220h160v-160H400v160ZM180-400h160v-160H180v160Zm440 0h160v-160H620v160ZM180-180h160v-160H180v160Zm440 0h160v-160H620v160Z\"/>\n",
              "  </svg>\n",
              "    </button>\n",
              "\n",
              "  <style>\n",
              "    .colab-df-container {\n",
              "      display:flex;\n",
              "      gap: 12px;\n",
              "    }\n",
              "\n",
              "    .colab-df-convert {\n",
              "      background-color: #E8F0FE;\n",
              "      border: none;\n",
              "      border-radius: 50%;\n",
              "      cursor: pointer;\n",
              "      display: none;\n",
              "      fill: #1967D2;\n",
              "      height: 32px;\n",
              "      padding: 0 0 0 0;\n",
              "      width: 32px;\n",
              "    }\n",
              "\n",
              "    .colab-df-convert:hover {\n",
              "      background-color: #E2EBFA;\n",
              "      box-shadow: 0px 1px 2px rgba(60, 64, 67, 0.3), 0px 1px 3px 1px rgba(60, 64, 67, 0.15);\n",
              "      fill: #174EA6;\n",
              "    }\n",
              "\n",
              "    .colab-df-buttons div {\n",
              "      margin-bottom: 4px;\n",
              "    }\n",
              "\n",
              "    [theme=dark] .colab-df-convert {\n",
              "      background-color: #3B4455;\n",
              "      fill: #D2E3FC;\n",
              "    }\n",
              "\n",
              "    [theme=dark] .colab-df-convert:hover {\n",
              "      background-color: #434B5C;\n",
              "      box-shadow: 0px 1px 3px 1px rgba(0, 0, 0, 0.15);\n",
              "      filter: drop-shadow(0px 1px 2px rgba(0, 0, 0, 0.3));\n",
              "      fill: #FFFFFF;\n",
              "    }\n",
              "  </style>\n",
              "\n",
              "    <script>\n",
              "      const buttonEl =\n",
              "        document.querySelector('#df-62dd4866-a055-49a5-93a6-5698fe83df68 button.colab-df-convert');\n",
              "      buttonEl.style.display =\n",
              "        google.colab.kernel.accessAllowed ? 'block' : 'none';\n",
              "\n",
              "      async function convertToInteractive(key) {\n",
              "        const element = document.querySelector('#df-62dd4866-a055-49a5-93a6-5698fe83df68');\n",
              "        const dataTable =\n",
              "          await google.colab.kernel.invokeFunction('convertToInteractive',\n",
              "                                                    [key], {});\n",
              "        if (!dataTable) return;\n",
              "\n",
              "        const docLinkHtml = 'Like what you see? Visit the ' +\n",
              "          '<a target=\"_blank\" href=https://colab.research.google.com/notebooks/data_table.ipynb>data table notebook</a>'\n",
              "          + ' to learn more about interactive tables.';\n",
              "        element.innerHTML = '';\n",
              "        dataTable['output_type'] = 'display_data';\n",
              "        await google.colab.output.renderOutput(dataTable, element);\n",
              "        const docLink = document.createElement('div');\n",
              "        docLink.innerHTML = docLinkHtml;\n",
              "        element.appendChild(docLink);\n",
              "      }\n",
              "    </script>\n",
              "  </div>\n",
              "\n",
              "\n",
              "<div id=\"df-72c09a79-0877-49b3-b0c8-357da6f5cd39\">\n",
              "  <button class=\"colab-df-quickchart\" onclick=\"quickchart('df-72c09a79-0877-49b3-b0c8-357da6f5cd39')\"\n",
              "            title=\"Suggest charts\"\n",
              "            style=\"display:none;\">\n",
              "\n",
              "<svg xmlns=\"http://www.w3.org/2000/svg\" height=\"24px\"viewBox=\"0 0 24 24\"\n",
              "     width=\"24px\">\n",
              "    <g>\n",
              "        <path d=\"M19 3H5c-1.1 0-2 .9-2 2v14c0 1.1.9 2 2 2h14c1.1 0 2-.9 2-2V5c0-1.1-.9-2-2-2zM9 17H7v-7h2v7zm4 0h-2V7h2v10zm4 0h-2v-4h2v4z\"/>\n",
              "    </g>\n",
              "</svg>\n",
              "  </button>\n",
              "\n",
              "<style>\n",
              "  .colab-df-quickchart {\n",
              "      --bg-color: #E8F0FE;\n",
              "      --fill-color: #1967D2;\n",
              "      --hover-bg-color: #E2EBFA;\n",
              "      --hover-fill-color: #174EA6;\n",
              "      --disabled-fill-color: #AAA;\n",
              "      --disabled-bg-color: #DDD;\n",
              "  }\n",
              "\n",
              "  [theme=dark] .colab-df-quickchart {\n",
              "      --bg-color: #3B4455;\n",
              "      --fill-color: #D2E3FC;\n",
              "      --hover-bg-color: #434B5C;\n",
              "      --hover-fill-color: #FFFFFF;\n",
              "      --disabled-bg-color: #3B4455;\n",
              "      --disabled-fill-color: #666;\n",
              "  }\n",
              "\n",
              "  .colab-df-quickchart {\n",
              "    background-color: var(--bg-color);\n",
              "    border: none;\n",
              "    border-radius: 50%;\n",
              "    cursor: pointer;\n",
              "    display: none;\n",
              "    fill: var(--fill-color);\n",
              "    height: 32px;\n",
              "    padding: 0;\n",
              "    width: 32px;\n",
              "  }\n",
              "\n",
              "  .colab-df-quickchart:hover {\n",
              "    background-color: var(--hover-bg-color);\n",
              "    box-shadow: 0 1px 2px rgba(60, 64, 67, 0.3), 0 1px 3px 1px rgba(60, 64, 67, 0.15);\n",
              "    fill: var(--button-hover-fill-color);\n",
              "  }\n",
              "\n",
              "  .colab-df-quickchart-complete:disabled,\n",
              "  .colab-df-quickchart-complete:disabled:hover {\n",
              "    background-color: var(--disabled-bg-color);\n",
              "    fill: var(--disabled-fill-color);\n",
              "    box-shadow: none;\n",
              "  }\n",
              "\n",
              "  .colab-df-spinner {\n",
              "    border: 2px solid var(--fill-color);\n",
              "    border-color: transparent;\n",
              "    border-bottom-color: var(--fill-color);\n",
              "    animation:\n",
              "      spin 1s steps(1) infinite;\n",
              "  }\n",
              "\n",
              "  @keyframes spin {\n",
              "    0% {\n",
              "      border-color: transparent;\n",
              "      border-bottom-color: var(--fill-color);\n",
              "      border-left-color: var(--fill-color);\n",
              "    }\n",
              "    20% {\n",
              "      border-color: transparent;\n",
              "      border-left-color: var(--fill-color);\n",
              "      border-top-color: var(--fill-color);\n",
              "    }\n",
              "    30% {\n",
              "      border-color: transparent;\n",
              "      border-left-color: var(--fill-color);\n",
              "      border-top-color: var(--fill-color);\n",
              "      border-right-color: var(--fill-color);\n",
              "    }\n",
              "    40% {\n",
              "      border-color: transparent;\n",
              "      border-right-color: var(--fill-color);\n",
              "      border-top-color: var(--fill-color);\n",
              "    }\n",
              "    60% {\n",
              "      border-color: transparent;\n",
              "      border-right-color: var(--fill-color);\n",
              "    }\n",
              "    80% {\n",
              "      border-color: transparent;\n",
              "      border-right-color: var(--fill-color);\n",
              "      border-bottom-color: var(--fill-color);\n",
              "    }\n",
              "    90% {\n",
              "      border-color: transparent;\n",
              "      border-bottom-color: var(--fill-color);\n",
              "    }\n",
              "  }\n",
              "</style>\n",
              "\n",
              "  <script>\n",
              "    async function quickchart(key) {\n",
              "      const quickchartButtonEl =\n",
              "        document.querySelector('#' + key + ' button');\n",
              "      quickchartButtonEl.disabled = true;  // To prevent multiple clicks.\n",
              "      quickchartButtonEl.classList.add('colab-df-spinner');\n",
              "      try {\n",
              "        const charts = await google.colab.kernel.invokeFunction(\n",
              "            'suggestCharts', [key], {});\n",
              "      } catch (error) {\n",
              "        console.error('Error during call to suggestCharts:', error);\n",
              "      }\n",
              "      quickchartButtonEl.classList.remove('colab-df-spinner');\n",
              "      quickchartButtonEl.classList.add('colab-df-quickchart-complete');\n",
              "    }\n",
              "    (() => {\n",
              "      let quickchartButtonEl =\n",
              "        document.querySelector('#df-72c09a79-0877-49b3-b0c8-357da6f5cd39 button');\n",
              "      quickchartButtonEl.style.display =\n",
              "        google.colab.kernel.accessAllowed ? 'block' : 'none';\n",
              "    })();\n",
              "  </script>\n",
              "</div>\n",
              "    </div>\n",
              "  </div>\n"
            ],
            "application/vnd.google.colaboratory.intrinsic+json": {
              "type": "dataframe",
              "variable_name": "df",
              "summary": "{\n  \"name\": \"df\",\n  \"rows\": 89,\n  \"fields\": [\n    {\n      \"column\": \"Date\",\n      \"properties\": {\n        \"dtype\": \"object\",\n        \"num_unique_values\": 1,\n        \"samples\": [\n          \"2012-01-01\"\n        ],\n        \"semantic_type\": \"\",\n        \"description\": \"\"\n      }\n    },\n    {\n      \"column\": \"Time\",\n      \"properties\": {\n        \"dtype\": \"object\",\n        \"num_unique_values\": 81,\n        \"samples\": [\n          \"06:29:00\"\n        ],\n        \"semantic_type\": \"\",\n        \"description\": \"\"\n      }\n    },\n    {\n      \"column\": \"CustomerID\",\n      \"properties\": {\n        \"dtype\": \"number\",\n        \"std\": 13321,\n        \"min\": 3493,\n        \"max\": 47835,\n        \"num_unique_values\": 79,\n        \"samples\": [\n          18824\n        ],\n        \"semantic_type\": \"\",\n        \"description\": \"\"\n      }\n    },\n    {\n      \"column\": \"CardID\",\n      \"properties\": {\n        \"dtype\": \"number\",\n        \"std\": 133955,\n        \"min\": 34405,\n        \"max\": 664882,\n        \"num_unique_values\": 83,\n        \"samples\": [\n          423256\n        ],\n        \"semantic_type\": \"\",\n        \"description\": \"\"\n      }\n    },\n    {\n      \"column\": \"GasStationID\",\n      \"properties\": {\n        \"dtype\": \"number\",\n        \"std\": 1655,\n        \"min\": 60,\n        \"max\": 5298,\n        \"num_unique_values\": 59,\n        \"samples\": [\n          363\n        ],\n        \"semantic_type\": \"\",\n        \"description\": \"\"\n      }\n    },\n    {\n      \"column\": \"ProductID\",\n      \"properties\": {\n        \"dtype\": \"number\",\n        \"std\": 81,\n        \"min\": 2,\n        \"max\": 336,\n        \"num_unique_values\": 12,\n        \"samples\": [\n          29\n        ],\n        \"semantic_type\": \"\",\n        \"description\": \"\"\n      }\n    },\n    {\n      \"column\": \"Amount\",\n      \"properties\": {\n        \"dtype\": \"number\",\n        \"std\": 32.76990178594073,\n        \"min\": 0.86,\n        \"max\": 231.275,\n        \"num_unique_values\": 79,\n        \"samples\": [\n          39.4\n        ],\n        \"semantic_type\": \"\",\n        \"description\": \"\"\n      }\n    },\n    {\n      \"column\": \"Price\",\n      \"properties\": {\n        \"dtype\": \"number\",\n        \"std\": 751.7945580916648,\n        \"min\": 11.919,\n        \"max\": 5014.779,\n        \"num_unique_values\": 89,\n        \"samples\": [\n          999.5678\n        ],\n        \"semantic_type\": \"\",\n        \"description\": \"\"\n      }\n    }\n  ]\n}"
            }
          },
          "metadata": {},
          "execution_count": 28
        }
      ]
    },
    {
      "cell_type": "code",
      "source": [
        "print(df.dtypes)"
      ],
      "metadata": {
        "colab": {
          "base_uri": "https://localhost:8080/"
        },
        "id": "z-p96uW5k2-v",
        "outputId": "44649f2e-ee93-4803-8cb1-103f9eeecc7e"
      },
      "execution_count": 29,
      "outputs": [
        {
          "output_type": "stream",
          "name": "stdout",
          "text": [
            "Date             object\n",
            "Time             object\n",
            "CustomerID        int64\n",
            "CardID            int64\n",
            "GasStationID      int64\n",
            "ProductID         int64\n",
            "Amount          float64\n",
            "Price           float64\n",
            "dtype: object\n"
          ]
        }
      ]
    },
    {
      "cell_type": "code",
      "source": [
        "customer_transactions = df.groupby('CustomerID')['Price'].sum()"
      ],
      "metadata": {
        "id": "HvAd4tccjkie"
      },
      "execution_count": 31,
      "outputs": []
    },
    {
      "cell_type": "code",
      "source": [
        "top_5_customers = customer_transactions.sort_values(ascending=False).head(5)"
      ],
      "metadata": {
        "id": "FiViCtLDj034"
      },
      "execution_count": 32,
      "outputs": []
    },
    {
      "cell_type": "code",
      "source": [
        "top_5_customers_df = pd.DataFrame(top_5_customers).reset_index()\n",
        "top_5_customers_df.columns = ['Customer ID', 'Total Price']"
      ],
      "metadata": {
        "id": "YLW26AMbj8HD"
      },
      "execution_count": 33,
      "outputs": []
    },
    {
      "cell_type": "code",
      "source": [
        "print(\"Top 5 Customers by Total Price:\")\n",
        "print(top_5_customers_df)"
      ],
      "metadata": {
        "colab": {
          "base_uri": "https://localhost:8080/"
        },
        "id": "Pfc7gzKDkE9e",
        "outputId": "6e6d6f74-611b-4bc9-d24c-4395a398b12f"
      },
      "execution_count": 34,
      "outputs": [
        {
          "output_type": "stream",
          "name": "stdout",
          "text": [
            "Top 5 Customers by Total Price:\n",
            "   Customer ID  Total Price\n",
            "0         6769    5014.7790\n",
            "1        17693    4802.9520\n",
            "2        15064    4287.0520\n",
            "3         7196    3987.8608\n",
            "4        15470    3320.1630\n"
          ]
        }
      ]
    },
    {
      "cell_type": "code",
      "source": [
        "gasstations_transactions = df.groupby('GasStationID')['Price'].sum()"
      ],
      "metadata": {
        "id": "jHiFrDEfm83a"
      },
      "execution_count": 35,
      "outputs": []
    },
    {
      "cell_type": "code",
      "source": [
        "top_5_gasstationss = gasstations_transactions.sort_values(ascending=False).head(5)"
      ],
      "metadata": {
        "id": "r14hPmfD06Jf"
      },
      "execution_count": 36,
      "outputs": []
    },
    {
      "cell_type": "code",
      "source": [
        "top_5_gasstations_df = pd.DataFrame(top_5_gasstation).reset_index()\n",
        "top_5_gasstations_df.columns = ['GasStation ID', 'Total Price']"
      ],
      "metadata": {
        "id": "S6SSWJqOnRf1"
      },
      "execution_count": 39,
      "outputs": []
    },
    {
      "cell_type": "code",
      "source": [
        "print(\"Top 5 GasStations by Total Price:\")\n",
        "print(top_5_gasstations_df)"
      ],
      "metadata": {
        "colab": {
          "base_uri": "https://localhost:8080/"
        },
        "id": "01H6rygznhbK",
        "outputId": "3fa7aaf3-0e50-4781-e603-9885a051bb60"
      },
      "execution_count": 40,
      "outputs": [
        {
          "output_type": "stream",
          "name": "stdout",
          "text": [
            "Top 5 GasStations by Total Price:\n",
            "   GasStation ID  Total Price\n",
            "0           3617     5168.471\n",
            "1            405     5014.779\n",
            "2           3671     4802.952\n",
            "3            804     4379.914\n",
            "4           2030     4287.052\n"
          ]
        }
      ]
    },
    {
      "cell_type": "code",
      "source": [
        "most_common_time = df.groupby(['Date', 'Time']).size().idxmax()\n",
        "print(\"Best Time for Gas Station User:\")\n",
        "print(\"Date:\", most_common_time[0])\n",
        "print(\"Time:\", most_common_time[1])"
      ],
      "metadata": {
        "colab": {
          "base_uri": "https://localhost:8080/"
        },
        "id": "1Rz7oNwcrsI9",
        "outputId": "ab3f67f4-2e24-47d7-ff48-0e31d9acb0a3"
      },
      "execution_count": 41,
      "outputs": [
        {
          "output_type": "stream",
          "name": "stdout",
          "text": [
            "Best Time for Gas Station User:\n",
            "Date: 2012-01-01\n",
            "Time: 04:40:00\n"
          ]
        }
      ]
    },
    {
      "cell_type": "markdown",
      "source": [
        "Dari sudut pandang pemahaman bisnis, tujuan utama  analisis data pelanggan adalah untuk memahami kebutuhan dan keinginan pelanggan, mengumpulkan data yang dapat digunakan untuk memecahkan masalah bisnis, dan mengoptimalkan strategi bisnis untuk meningkatkan kepuasan pelanggan. Analisis data pelanggan membantu perusahaan memahami tren dan kebutuhan pasar, melakukan penargetan yang efektif, dan mengoptimalkan kebijakan bisnis."
      ],
      "metadata": {
        "id": "CdxerP_-3VTk"
      }
    }
  ]
}